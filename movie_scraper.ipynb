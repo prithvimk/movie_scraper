{
 "cells": [
  {
   "cell_type": "markdown",
   "metadata": {},
   "source": [
    "Scrap the wikipedia pages of your top 5 favourite \n",
    "movies, and scrape the following\n",
    "1. The movie name\n",
    "2. Director\n",
    "3. Year of release\n",
    "4. Overall gross earning\n",
    "5. The cast"
   ]
  },
  {
   "cell_type": "code",
   "execution_count": 93,
   "metadata": {},
   "outputs": [
    {
     "data": {
      "text/plain": [
       "['zindagi na milegi dobara']"
      ]
     },
     "execution_count": 93,
     "metadata": {},
     "output_type": "execute_result"
    }
   ],
   "source": [
    "from bs4 import BeautifulSoup\n",
    "import requests\n",
    "import string\n",
    "\n",
    "movie_list = []\n",
    "with open('movies.txt') as file:\n",
    "    for movie in file:\n",
    "        movie_list.append(movie.strip())\n",
    "\n",
    "movie_list"
   ]
  },
  {
   "cell_type": "code",
   "execution_count": 94,
   "metadata": {},
   "outputs": [
    {
     "name": "stdout",
     "output_type": "stream",
     "text": [
      "Zindagi Na Milegi Dobara\n"
     ]
    }
   ],
   "source": [
    "#getting name of the movie\n",
    "\n",
    "url = 'https://en.wikipedia.org/wiki/' + string.capwords(movie_list[0])\n",
    "r = requests.get(url)\n",
    "\n",
    "soup = BeautifulSoup(r.content, 'html5lib')\n",
    "\n",
    "table = soup.find('table', attrs={'class':'infobox vevent'})\n",
    "\n",
    "movie_name = table.find('th', attrs={'class':'infobox-above summary'}).text\n",
    "print(movie_name)"
   ]
  },
  {
   "cell_type": "code",
   "execution_count": 95,
   "metadata": {},
   "outputs": [
    {
     "name": "stdout",
     "output_type": "stream",
     "text": [
      "Zoya Akhtar\n"
     ]
    }
   ],
   "source": [
    "#getting name of director\n",
    "\n",
    "director_name = table.find('th', attrs={'class':'infobox-label'}, text='Directed by').find_next().text\n",
    "print(director_name)"
   ]
  },
  {
   "cell_type": "code",
   "execution_count": 96,
   "metadata": {},
   "outputs": [
    {
     "name": "stdout",
     "output_type": "stream",
     "text": [
      "\n",
      "15 July 2011 (2011-07-15)\n",
      "\n"
     ]
    }
   ],
   "source": [
    "#getting year of release\n",
    "\n",
    "release_date = table.find('th', attrs={'class':'infobox-label'}, text='Release date').find_next_sibling().text\n",
    "print(release_date)"
   ]
  },
  {
   "cell_type": "code",
   "execution_count": 97,
   "metadata": {},
   "outputs": [
    {
     "name": "stdout",
     "output_type": "stream",
     "text": [
      "₹1.53 billion (US$20 million)[3]\n"
     ]
    }
   ],
   "source": [
    "#overall gross earnings\n",
    "\n",
    "overall_gross_earnings = table.find('th', attrs={'class':'infobox-label'}, text='Box office').find_next().text\n",
    "print(overall_gross_earnings)"
   ]
  },
  {
   "cell_type": "code",
   "execution_count": 98,
   "metadata": {},
   "outputs": [
    {
     "name": "stdout",
     "output_type": "stream",
     "text": [
      "['Hrithik Roshan', 'Abhay Deol', 'Farhan Akhtar', 'Katrina Kaif', 'Kalki Koechlin']\n"
     ]
    }
   ],
   "source": [
    "#names of the cast\n",
    "\n",
    "label = table.find('th', attrs={'class':'infobox-label'}, text='Starring').find_next_sibling()\n",
    "\n",
    "\"\"\" while(True):\n",
    "    try:\n",
    "        print(label.find_next())\n",
    "        label = label.find_next()\n",
    "    except:\n",
    "        break \"\"\"\n",
    "\n",
    "\"\"\" for data in label.children:\n",
    "    try:\n",
    "        if data.text is not None:\n",
    "            print(data.text)\n",
    "    except:\n",
    "        if data.string is not None:\n",
    "            print(data.string) \"\"\"\n",
    "\n",
    "temp = []\n",
    "\"\"\" for data in label.children:\n",
    "    print(data) \"\"\"\n",
    "\n",
    "\n",
    "for s in label.strings:\n",
    "    if str(s.strip()): temp.append(s.strip())\n",
    "\n",
    "print(temp)\n",
    "\n"
   ]
  }
 ],
 "metadata": {
  "interpreter": {
   "hash": "2f6e72ab736cc90fa07d3aa53532b65885f1a761af9005c6a121814f1da0f836"
  },
  "kernelspec": {
   "display_name": "Python 3.8.1 64-bit",
   "language": "python",
   "name": "python3"
  },
  "language_info": {
   "codemirror_mode": {
    "name": "ipython",
    "version": 3
   },
   "file_extension": ".py",
   "mimetype": "text/x-python",
   "name": "python",
   "nbconvert_exporter": "python",
   "pygments_lexer": "ipython3",
   "version": "3.8.1"
  },
  "orig_nbformat": 4
 },
 "nbformat": 4,
 "nbformat_minor": 2
}
